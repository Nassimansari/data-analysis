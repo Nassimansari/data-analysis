{
 "cells": [
  {
   "cell_type": "code",
   "execution_count": 1,
   "id": "760bb7b1-764e-47e0-90f8-6f7d9c0847d9",
   "metadata": {},
   "outputs": [],
   "source": [
    "import sqlite3\n",
    "con = sqlite3.connect(\"MCU.db\")\n",
    "cur = con.cursor()"
   ]
  },
  {
   "cell_type": "code",
   "execution_count": 2,
   "id": "8332c77d-5da6-4db8-a0a3-e3e8d271cb96",
   "metadata": {},
   "outputs": [
    {
     "data": {
      "text/plain": [
       "<sqlite3.Cursor at 0x20d7d4836c0>"
      ]
     },
     "execution_count": 2,
     "metadata": {},
     "output_type": "execute_result"
    }
   ],
   "source": [
    "cur.execute(\"CREATE TABLE MCU_Actors(actor_id, actor_name, movie_id )\")"
   ]
  },
  {
   "cell_type": "code",
   "execution_count": 3,
   "id": "1d2465df-587b-4393-8d09-7154f07c729e",
   "metadata": {},
   "outputs": [],
   "source": [
    "actor_data = [\n",
    "(1, 'Robert Downey Jr.', 1001),\n",
    "(2, 'Chris Evans', 1005),\n",
    "(3, 'Mark Ruffalo', 1006),\n",
    "(4, 'Chris Hemsworth', 1004),\n",
    "(5, 'Scarlett Johansson', 1006),\n",
    "(6, 'Jeremy Renner', 1006),\n",
    "(7, 'Tom Hiddleston', 1004),\n",
    "(8, 'Clark Gregg', 1001),\n",
    "(9, 'Paul Rudd', 1012),\n",
    "(10, 'Benedict Cumberbatch', 1014)\n",
    "]\n",
    "# Insert actor data into the MCU_Actors table\n",
    "cur.executemany(\"INSERT OR IGNORE INTO MCU_Actors VALUES(?,?,?)\", actor_data)\n",
    "con.commit()\n",
    "\n"
   ]
  }
 ],
 "metadata": {
  "kernelspec": {
   "display_name": "Python 3 (ipykernel)",
   "language": "python",
   "name": "python3"
  },
  "language_info": {
   "codemirror_mode": {
    "name": "ipython",
    "version": 3
   },
   "file_extension": ".py",
   "mimetype": "text/x-python",
   "name": "python",
   "nbconvert_exporter": "python",
   "pygments_lexer": "ipython3",
   "version": "3.11.3"
  }
 },
 "nbformat": 4,
 "nbformat_minor": 5
}
