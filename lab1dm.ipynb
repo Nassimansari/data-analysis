{
 "cells": [
  {
   "cell_type": "code",
   "execution_count": 3,
   "id": "9e47b7e9-9d14-4f46-9eed-66d6534f6282",
   "metadata": {},
   "outputs": [],
   "source": [
    "import sqlite3\n",
    "con = sqlite3.connect(\"MCU.db\")"
   ]
  },
  {
   "cell_type": "code",
   "execution_count": 2,
   "id": "167b0e2a-00e9-402a-9ede-a53899a9a529",
   "metadata": {},
   "outputs": [],
   "source": [
    "cur = con.cursor()"
   ]
  },
  {
   "cell_type": "code",
   "execution_count": 4,
   "id": "517a9435-a9eb-4a0f-b922-bb26b171f7b0",
   "metadata": {},
   "outputs": [
    {
     "data": {
      "text/plain": [
       "<sqlite3.Cursor at 0x1aaae232fc0>"
      ]
     },
     "execution_count": 4,
     "metadata": {},
     "output_type": "execute_result"
    }
   ],
   "source": [
    "cur.execute(\"CREATE TABLE MCU_Movies(movie_id,title, year, score)\")"
   ]
  },
  {
   "cell_type": "code",
   "execution_count": 10,
   "id": "7cf90031-ddce-4ee4-b618-f18082787f8b",
   "metadata": {},
   "outputs": [],
   "source": [
    "data=[\n",
    "(1001, 'Iron Man', 2008, 7.9),\n",
    "(1002, 'The Incredible Hulk', 2008, 6.7),\n",
    "(1003, 'Iron Man 2', 2010, 7.0),\n",
    "(1004, 'Thor', 2011, 7.0),\n",
    "(1005, 'Captain America: The First Avenger', 2011, 6.9),\n",
    "(1006, 'The Avengers', 2012, 8.0),\n",
    "(1007, 'Iron Man 3', 2013, 7.2),\n",
    "(1008, 'Thor: The Dark World', 2013, 6.9),\n",
    "(1009, 'Captain America: The Winter Soldier', 2014, 7.7),\n",
    "(1010, 'Guardians of the Galaxy', 2014, 8.0),\n",
    "(1011, 'Avengers: Age of Ultron', 2015, 7.3),\n",
    "(1012, 'Ant-Man', 2015, 7.3),\n",
    "(1013, 'Captain America: Civil War', 2016, 7.8),\n",
    "(1014, 'Doctor Strange', 2016, 7.5),\n",
    "(1015, 'Guardians of the Galaxy Vol. 2', 2017, 7.6),\n",
    "(1016, 'Spider-Man: Homecoming', 2017, 7.4),\n",
    "(1017, 'Thor: Ragnarok', 2017, 7.9),\n",
    "(1018, 'Black Panther', 2018, 7.3),\n",
    "(1019, 'Avengers: Infinity War', 2018, 8.4),\n",
    "(1020, 'Ant-Man and The Wasp', 2018, 7.1),\n",
    "(1021, 'Captain Marvel', 2019, 6.9),\n",
    "(1022, 'Avengers: Endgame', 2019, 8.4),\n",
    "]\n",
    "\n",
    "cur.executemany(\"INSERT INTO MCU_Movies VALUES(?,?, ?, ?)\", data)\n",
    "con.commit()"
   ]
  },
  {
   "cell_type": "code",
   "execution_count": 11,
   "id": "03e229eb-88e8-407f-8e0e-ab25e3201485",
   "metadata": {},
   "outputs": [
    {
     "name": "stdout",
     "output_type": "stream",
     "text": [
      "(7.9,)\n",
      "(6.7,)\n",
      "(7.0,)\n",
      "(7.0,)\n",
      "(6.9,)\n",
      "(8.0,)\n",
      "(7.2,)\n",
      "(6.9,)\n",
      "(7.7,)\n",
      "(8.0,)\n",
      "(7.3,)\n",
      "(7.3,)\n",
      "(7.8,)\n",
      "(7.5,)\n",
      "(7.6,)\n",
      "(7.4,)\n",
      "(7.9,)\n",
      "(7.3,)\n",
      "(8.4,)\n",
      "(7.1,)\n",
      "(6.9,)\n",
      "(8.4,)\n"
     ]
    }
   ],
   "source": [
    "for row in cur.execute(\"SELECT score FROM MCU_Movies\"):\n",
    "    print(row)\n",
    "   # \"SELECT score FROM MCU_Movies\""
   ]
  },
  {
   "cell_type": "code",
   "execution_count": 12,
   "id": "a7d240b1-4cf6-447d-b9a5-9687f3eac417",
   "metadata": {},
   "outputs": [
    {
     "name": "stdout",
     "output_type": "stream",
     "text": [
      "(2008, 'Iron Man')\n",
      "(2008, 'The Incredible Hulk')\n",
      "(2010, 'Iron Man 2')\n",
      "(2011, 'Thor')\n",
      "(2011, 'Captain America: The First Avenger')\n",
      "(2012, 'The Avengers')\n",
      "(2013, 'Iron Man 3')\n",
      "(2013, 'Thor: The Dark World')\n",
      "(2014, 'Captain America: The Winter Soldier')\n",
      "(2014, 'Guardians of the Galaxy')\n",
      "(2015, 'Avengers: Age of Ultron')\n",
      "(2015, 'Ant-Man')\n",
      "(2016, 'Captain America: Civil War')\n",
      "(2016, 'Doctor Strange')\n",
      "(2017, 'Guardians of the Galaxy Vol. 2')\n",
      "(2017, 'Spider-Man: Homecoming')\n",
      "(2017, 'Thor: Ragnarok')\n",
      "(2018, 'Black Panther')\n",
      "(2018, 'Avengers: Infinity War')\n",
      "(2018, 'Ant-Man and The Wasp')\n",
      "(2019, 'Captain Marvel')\n",
      "(2019, 'Avengers: Endgame')\n"
     ]
    }
   ],
   "source": [
    "#\"SELECT year, title FROM MCU_Movies ORDER BY year\"\n",
    "\n",
    "for row in cur.execute(\"SELECT year, title FROM MCU_Movies ORDER BY year\"):\n",
    "    print(row)"
   ]
  },
  {
   "cell_type": "code",
   "execution_count": 13,
   "id": "7098ca64-23ce-4b85-a73d-0cf406016dab",
   "metadata": {},
   "outputs": [
    {
     "name": "stdout",
     "output_type": "stream",
     "text": [
      "('Captain Marvel', 2019)\n",
      "('Avengers: Endgame', 2019)\n",
      "('Black Panther', 2018)\n",
      "('Avengers: Infinity War', 2018)\n",
      "('Ant-Man and The Wasp', 2018)\n",
      "('Guardians of the Galaxy Vol. 2', 2017)\n",
      "('Spider-Man: Homecoming', 2017)\n",
      "('Thor: Ragnarok', 2017)\n",
      "('Captain America: Civil War', 2016)\n",
      "('Doctor Strange', 2016)\n",
      "('Avengers: Age of Ultron', 2015)\n",
      "('Ant-Man', 2015)\n",
      "('Captain America: The Winter Soldier', 2014)\n",
      "('Guardians of the Galaxy', 2014)\n",
      "('Iron Man 3', 2013)\n",
      "('Thor: The Dark World', 2013)\n",
      "('The Avengers', 2012)\n",
      "('Thor', 2011)\n",
      "('Captain America: The First Avenger', 2011)\n",
      "('Iron Man 2', 2010)\n",
      "('Iron Man', 2008)\n",
      "('The Incredible Hulk', 2008)\n"
     ]
    }
   ],
   "source": [
    "# \"SELECT title, year FROM MCU_Movies ORDER BY score DESC\"\n",
    "for row in cur.execute(\"SELECT  title, year FROM MCU_Movies ORDER BY year Desc\"):\n",
    "    print(row)"
   ]
  },
  {
   "cell_type": "code",
   "execution_count": 17,
   "id": "c3b1a17c-7bba-4fbd-ac40-490e725800c7",
   "metadata": {},
   "outputs": [
    {
     "name": "stdout",
     "output_type": "stream",
     "text": [
      "    movie_id                                title  year  score\n",
      "0       1001                             Iron Man  2008    7.9\n",
      "1       1002                  The Incredible Hulk  2008    6.7\n",
      "2       1003                           Iron Man 2  2010    7.0\n",
      "3       1004                                 Thor  2011    7.0\n",
      "4       1005   Captain America: The First Avenger  2011    6.9\n",
      "5       1006                         The Avengers  2012    8.0\n",
      "6       1007                           Iron Man 3  2013    7.2\n",
      "7       1008                 Thor: The Dark World  2013    6.9\n",
      "8       1009  Captain America: The Winter Soldier  2014    7.7\n",
      "9       1010              Guardians of the Galaxy  2014    8.0\n",
      "10      1011              Avengers: Age of Ultron  2015    7.3\n",
      "11      1012                              Ant-Man  2015    7.3\n",
      "12      1013           Captain America: Civil War  2016    7.8\n",
      "13      1014                       Doctor Strange  2016    7.5\n",
      "14      1015       Guardians of the Galaxy Vol. 2  2017    7.6\n",
      "15      1016               Spider-Man: Homecoming  2017    7.4\n",
      "16      1017                       Thor: Ragnarok  2017    7.9\n",
      "17      1018                        Black Panther  2018    7.3\n",
      "18      1019               Avengers: Infinity War  2018    8.4\n",
      "19      1020                 Ant-Man and The Wasp  2018    7.1\n",
      "20      1021                       Captain Marvel  2019    6.9\n",
      "21      1022                    Avengers: Endgame  2019    8.4\n"
     ]
    }
   ],
   "source": [
    "import pandas as pd\n",
    "                 \n",
    "cur.execute('''\n",
    "          SELECT\n",
    "          *\n",
    "          FROM MCU_Movies\n",
    "          ''')\n",
    "\n",
    "df = pd.DataFrame(cur.fetchall(), columns = ['movie_id','title', 'year', 'score'])\n",
    "print (df)\n",
    "\n"
   ]
  }
 ],
 "metadata": {
  "kernelspec": {
   "display_name": "Python 3 (ipykernel)",
   "language": "python",
   "name": "python3"
  },
  "language_info": {
   "codemirror_mode": {
    "name": "ipython",
    "version": 3
   },
   "file_extension": ".py",
   "mimetype": "text/x-python",
   "name": "python",
   "nbconvert_exporter": "python",
   "pygments_lexer": "ipython3",
   "version": "3.11.3"
  }
 },
 "nbformat": 4,
 "nbformat_minor": 5
}
