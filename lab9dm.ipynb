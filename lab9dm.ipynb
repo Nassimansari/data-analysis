{
 "cells": [
  {
   "cell_type": "code",
   "execution_count": 35,
   "id": "10bc8ebd-ffda-42c0-b476-70da624d9ac1",
   "metadata": {},
   "outputs": [],
   "source": [
    "import sqlite3\n",
    "import pandas as pd"
   ]
  },
  {
   "cell_type": "code",
   "execution_count": 36,
   "id": "20672f3b-aa50-43f1-82fe-d8b0b670f3e5",
   "metadata": {},
   "outputs": [],
   "source": [
    "con = sqlite3.connect(\"accident_data_v1.0.0_2023.db\")\n",
    "cur = con.cursor()\n",
    "\n",
    "table_list = [a[0] for a in cur.execute(\"SELECT name FROM sqlite_master WHERE type = 'table'\")]\n",
    "sql_query = f\"SELECT * FROM {table_list[0]}\"\n",
    "accident_d = pd.read_sql_query(sql_query, con)"
   ]
  },
  {
   "cell_type": "code",
   "execution_count": 42,
   "id": "d7589726-3def-43a1-82a1-a23cafab3fe4",
   "metadata": {},
   "outputs": [],
   "source": [
    "columns_name = ['accident_severity', 'weather_conditions', 'speed_limit']\n",
    "ap_df = accident_df[columns_name]"
   ]
  },
  {
   "cell_type": "code",
   "execution_count": 43,
   "id": "73cf97aa-d3f8-4963-8fa8-f96d946ae51a",
   "metadata": {},
   "outputs": [],
   "source": [
    "ap_df = ap_df.dropna()"
   ]
  },
  {
   "cell_type": "code",
   "execution_count": 44,
   "id": "f4abe172-9dce-4cad-81e5-444e9d0495ba",
   "metadata": {},
   "outputs": [
    {
     "data": {
      "text/html": [
       "<div>\n",
       "<style scoped>\n",
       "    .dataframe tbody tr th:only-of-type {\n",
       "        vertical-align: middle;\n",
       "    }\n",
       "\n",
       "    .dataframe tbody tr th {\n",
       "        vertical-align: top;\n",
       "    }\n",
       "\n",
       "    .dataframe thead th {\n",
       "        text-align: right;\n",
       "    }\n",
       "</style>\n",
       "<table border=\"1\" class=\"dataframe\">\n",
       "  <thead>\n",
       "    <tr style=\"text-align: right;\">\n",
       "      <th></th>\n",
       "      <th>accident_severity</th>\n",
       "      <th>weather_conditions</th>\n",
       "      <th>speed_limit</th>\n",
       "    </tr>\n",
       "  </thead>\n",
       "  <tbody>\n",
       "    <tr>\n",
       "      <th>0</th>\n",
       "      <td>1</td>\n",
       "      <td>1</td>\n",
       "      <td>30</td>\n",
       "    </tr>\n",
       "    <tr>\n",
       "      <th>1</th>\n",
       "      <td>3</td>\n",
       "      <td>1</td>\n",
       "      <td>30</td>\n",
       "    </tr>\n",
       "    <tr>\n",
       "      <th>2</th>\n",
       "      <td>3</td>\n",
       "      <td>1</td>\n",
       "      <td>30</td>\n",
       "    </tr>\n",
       "    <tr>\n",
       "      <th>3</th>\n",
       "      <td>3</td>\n",
       "      <td>2</td>\n",
       "      <td>30</td>\n",
       "    </tr>\n",
       "    <tr>\n",
       "      <th>4</th>\n",
       "      <td>2</td>\n",
       "      <td>1</td>\n",
       "      <td>20</td>\n",
       "    </tr>\n",
       "  </tbody>\n",
       "</table>\n",
       "</div>"
      ],
      "text/plain": [
       "   accident_severity  weather_conditions  speed_limit\n",
       "0                  1                   1           30\n",
       "1                  3                   1           30\n",
       "2                  3                   1           30\n",
       "3                  3                   2           30\n",
       "4                  2                   1           20"
      ]
     },
     "execution_count": 44,
     "metadata": {},
     "output_type": "execute_result"
    }
   ],
   "source": [
    "ap_df.head()"
   ]
  },
  {
   "cell_type": "code",
   "execution_count": null,
   "id": "2ac215c8-d6ae-4e0b-8088-b061d541f298",
   "metadata": {},
   "outputs": [],
   "source": []
  },
  {
   "cell_type": "code",
   "execution_count": 45,
   "id": "603d8563-40be-4dc4-b13d-ec80e3a8c0f6",
   "metadata": {},
   "outputs": [],
   "source": [
    "df = ap_df"
   ]
  },
  {
   "cell_type": "code",
   "execution_count": 62,
   "id": "fa407d58-e911-4a5f-bf16-33d4e87971f3",
   "metadata": {},
   "outputs": [],
   "source": [
    "from sklearn.model_selection import train_test_split\n",
    "X_train, X_test, y_train, y_test = train_test_split(df[['weather_conditions','speed_limit']],df['accident_severity'], test_size = 0.25, random_state = 42)"
   ]
  },
  {
   "cell_type": "code",
   "execution_count": null,
   "id": "080c574b-30ee-4a65-9d81-538337d2d328",
   "metadata": {},
   "outputs": [],
   "source": [
    "from sklearn.preprocessing import LabelEncoder, OneHotEncoderfrom sklearn.preprocessing import LabelEncoder, OneHotEncoder"
   ]
  },
  {
   "cell_type": "code",
   "execution_count": 77,
   "id": "05e70427-ca9a-44d2-a588-6ddae7d12ca9",
   "metadata": {},
   "outputs": [],
   "source": [
    "import numpy as np\n",
    "from numpy import mean\n",
    "from numpy import std\n",
    "import seaborn as sns\n",
    "from matplotlib import pyplot as plt\n",
    "from sklearn.model_selection import RepeatedStratifiedKFold\n",
    "from sklearn.model_selection import cross_val_score\n",
    "from sklearn.linear_model import LogisticRegression\n",
    "from sklearn.ensemble import RandomForestClassifier\n",
    "from sklearn.tree import DecisionTreeClassifier\n",
    "from sklearn.naive_bayes import GaussianNB\n"
   ]
  },
  {
   "cell_type": "code",
   "execution_count": 78,
   "id": "8ba61b70-7b6c-424c-b27c-d039d9b321f8",
   "metadata": {},
   "outputs": [],
   "source": [
    "def get_models():\n",
    "    models= dict()\n",
    "    models['dtree'] =DecisionTreeClassifier()\n",
    "    models['rfc'] = RandomForestClassifier()\n",
    "    models['bayes'] = GaussianNB()\n",
    "    return models"
   ]
  },
  {
   "cell_type": "code",
   "execution_count": 69,
   "id": "2edfbe2e-22ab-4571-8658-cdf12a556a5c",
   "metadata": {},
   "outputs": [],
   "source": [
    "def evaluate_model(model, x,y):\n",
    "    cv= RepeatedStratifiedKFold(\n",
    "        \n",
    "        n_repeats= 3,\n",
    "        random_state = 1)\n",
    "    scores = cross_val_score(\n",
    "    model, x,y,\n",
    "    scoring= \"accuracy\",\n",
    "    cv= cv, error_score = \"raise\"\n",
    "    )\n",
    "    return scores"
   ]
  },
  {
   "cell_type": "code",
   "execution_count": 79,
   "id": "4290975e-5e9b-408b-91c8-4eaffb93159c",
   "metadata": {},
   "outputs": [],
   "source": [
    "models = get_models()"
   ]
  },
  {
   "cell_type": "code",
   "execution_count": 80,
   "id": "702cca7b-3f5d-424a-a488-e326012ff68d",
   "metadata": {},
   "outputs": [
    {
     "name": "stdout",
     "output_type": "stream",
     "text": [
      "dtree: 0.798 0.000\n",
      "rfc: 0.798 0.000\n",
      "bayes: 0.798 0.000\n"
     ]
    }
   ],
   "source": [
    "names=[]\n",
    "results = []\n",
    "for name, model in models.items():\n",
    "     scores = evaluate_model(model, X_train, y_train)\n",
    "     print(f'{name}: {mean(scores):3.3f} {std(scores):4.3f}')"
   ]
  },
  {
   "cell_type": "code",
   "execution_count": null,
   "id": "973475f4-c598-4061-b150-be851c094149",
   "metadata": {},
   "outputs": [],
   "source": []
  }
 ],
 "metadata": {
  "kernelspec": {
   "display_name": "Python 3 (ipykernel)",
   "language": "python",
   "name": "python3"
  },
  "language_info": {
   "codemirror_mode": {
    "name": "ipython",
    "version": 3
   },
   "file_extension": ".py",
   "mimetype": "text/x-python",
   "name": "python",
   "nbconvert_exporter": "python",
   "pygments_lexer": "ipython3",
   "version": "3.11.3"
  }
 },
 "nbformat": 4,
 "nbformat_minor": 5
}
